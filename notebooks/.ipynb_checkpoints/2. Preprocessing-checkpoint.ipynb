{
 "cells": [
  {
   "cell_type": "code",
   "execution_count": 1,
   "id": "f189a793-4e7d-4390-b04d-2ddc81c7e92c",
   "metadata": {},
   "outputs": [],
   "source": [
    "import pandas as pd\n",
    "import matplotlib.pyplot as plt\n",
    "import seaborn as sns\n",
    "import numpy as np\n",
    "from tqdm import tqdm\n",
    "sns.set_theme()"
   ]
  },
  {
   "cell_type": "code",
   "execution_count": 5,
   "id": "e30a9c1d-9bf2-46d7-8bea-9c5330ca234e",
   "metadata": {},
   "outputs": [],
   "source": [
    "raw_movielens_folder = \"./../data/interim/ml-100k\" # even though folder if interim, this file is raw"
   ]
  },
  {
   "cell_type": "code",
   "execution_count": 3,
   "id": "96695db0-3fea-4ed7-b22c-b9303abc5354",
   "metadata": {},
   "outputs": [],
   "source": [
    "genres = [\"unknown\",\n",
    "\"Action\",\n",
    "\"Adventure\",\n",
    "\"Animation\",\n",
    "\"Children\",\n",
    "\"Comedy\",\n",
    "\"Crime\",\n",
    "\"Documentary\",\n",
    "\"Drama\",\n",
    "\"Fantasy\",\n",
    "\"Film-Noir\",\n",
    "\"Horror\",\n",
    "\"Musical\",\n",
    "\"Mystery\",\n",
    "\"Romance\",\n",
    "\"Sci-Fi\",\n",
    "\"Thriller\",\n",
    "\"War\",\n",
    "\"Western\"\n",
    "]"
   ]
  },
  {
   "cell_type": "code",
   "execution_count": 7,
   "id": "ffe8d696-332c-48a2-b85d-7ea5adf59a8c",
   "metadata": {},
   "outputs": [],
   "source": [
    "df_ratings = pd.read_csv(raw_movielens_folder+\"/u.data\", sep = \"\\t\", header=None, names=['user_id', 'movie_id', 'rating', 'timestamp'], index_col = 0)\n",
    "df_users = pd.read_csv(raw_movielens_folder+\"/u.user\", sep='|', header=None, names=['user_id', 'age', 'gender', 'occupation', 'zipcode'], index_col=0)\n",
    "\n",
    "# in interim this file has replaces || by |\n",
    "df_movies = pd.read_csv(raw_movielens_folder+\"/u.item\", sep='|', header=None, names = [\"movie_id\", \"name\", \"video_date\", \"link\"] + genres, encoding='latin-1', index_col=0)\n",
    "df_movies.drop([\"link\"], axis=1, inplace=True) # useless"
   ]
  },
  {
   "cell_type": "code",
   "execution_count": 13,
   "id": "854381c6-6754-4406-9215-b6337ddfcb52",
   "metadata": {},
   "outputs": [],
   "source": [
    "# drop titles, they are useless. also, i am not going to use release date\n",
    "df_movies.drop([\"name\"], inplace=True, axis=1)\n",
    "df_ratings.drop([\"timestamp\"], axis=1, inplace=True) # timestamp is useless\n",
    "df_movies.drop([\"video_date\"], axis=1, inplace=True) \n",
    "df_users.drop([\"zipcode\"], inplace=True, axis=1)"
   ]
  },
  {
   "cell_type": "code",
   "execution_count": 24,
   "id": "6d3ace39-7d49-45e0-9222-53bb29378767",
   "metadata": {},
   "outputs": [],
   "source": [
    "df_users = pd.get_dummies(df_users, columns=['gender'], dtype=\"int\") # one hot encoding the gender\n",
    "df_users.drop([\"gender_M\"], inplace=True, axis=1)\n",
    "df_users.rename({\"gender_F\" : \"gender\"}, axis=1, inplace=True)"
   ]
  },
  {
   "cell_type": "code",
   "execution_count": 34,
   "id": "a268cce1-5f41-4e93-a504-ccad98148d6d",
   "metadata": {},
   "outputs": [],
   "source": [
    "df_users = pd.get_dummies(df_users, columns=['occupation'], dtype=\"int\") # one hot encoding the occupation"
   ]
  },
  {
   "cell_type": "code",
   "execution_count": 44,
   "id": "951e7bfa-c9e2-4dbf-a4db-65ef1b538110",
   "metadata": {},
   "outputs": [],
   "source": [
    "# Encoding the age into cathegories\n",
    "\n",
    "bins = [0, 17, 24, 34, 49, float('inf')]\n",
    "\n",
    "# Define the labels\n",
    "labels = ['Under 18', '18-24', '25-34', '35-49', 'Above 49']\n",
    "\n",
    "# Create the new column\n",
    "df_users['age_group'] = pd.cut(df_users['age'], bins=bins, labels=labels, include_lowest=True)"
   ]
  },
  {
   "cell_type": "code",
   "execution_count": 52,
   "id": "89214312-568e-40e4-b620-43550c4bb6b5",
   "metadata": {},
   "outputs": [],
   "source": [
    "df_users = pd.get_dummies(df_users, columns=['age_group'], dtype=\"int\")"
   ]
  },
  {
   "cell_type": "code",
   "execution_count": null,
   "id": "e481d7ac-19bd-4f77-87e7-b5423b30d01b",
   "metadata": {},
   "outputs": [],
   "source": [
    "df_movies.dropna(inplace=True)"
   ]
  },
  {
   "cell_type": "code",
   "execution_count": null,
   "id": "eb9540fa-0d87-4f4e-9c08-6b71fdffc6ba",
   "metadata": {},
   "outputs": [],
   "source": [
    "last_1_columns = df_movies.columns[-1:]\n",
    "\n",
    "# Cast the last 5 columns to int\n",
    "df_movies[last_1_columns] = df_movies[last_1_columns].astype(int)"
   ]
  },
  {
   "cell_type": "code",
   "execution_count": 66,
   "id": "fb3b0f4d-bd04-462a-9065-8c32f63cde1e",
   "metadata": {},
   "outputs": [
    {
     "data": {
      "text/html": [
       "<div>\n",
       "<style scoped>\n",
       "    .dataframe tbody tr th:only-of-type {\n",
       "        vertical-align: middle;\n",
       "    }\n",
       "\n",
       "    .dataframe tbody tr th {\n",
       "        vertical-align: top;\n",
       "    }\n",
       "\n",
       "    .dataframe thead th {\n",
       "        text-align: right;\n",
       "    }\n",
       "</style>\n",
       "<table border=\"1\" class=\"dataframe\">\n",
       "  <thead>\n",
       "    <tr style=\"text-align: right;\">\n",
       "      <th></th>\n",
       "      <th>movie_id</th>\n",
       "      <th>rating</th>\n",
       "    </tr>\n",
       "    <tr>\n",
       "      <th>user_id</th>\n",
       "      <th></th>\n",
       "      <th></th>\n",
       "    </tr>\n",
       "  </thead>\n",
       "  <tbody>\n",
       "    <tr>\n",
       "      <th>196</th>\n",
       "      <td>242</td>\n",
       "      <td>3</td>\n",
       "    </tr>\n",
       "  </tbody>\n",
       "</table>\n",
       "</div>"
      ],
      "text/plain": [
       "         movie_id  rating\n",
       "user_id                  \n",
       "196           242       3"
      ]
     },
     "execution_count": 66,
     "metadata": {},
     "output_type": "execute_result"
    }
   ],
   "source": [
    "df_ratings.head(1)"
   ]
  },
  {
   "cell_type": "code",
   "execution_count": 67,
   "id": "a874cf2b-8bd9-4e20-a01f-7bb6c7e2f23c",
   "metadata": {},
   "outputs": [
    {
     "data": {
      "text/html": [
       "<div>\n",
       "<style scoped>\n",
       "    .dataframe tbody tr th:only-of-type {\n",
       "        vertical-align: middle;\n",
       "    }\n",
       "\n",
       "    .dataframe tbody tr th {\n",
       "        vertical-align: top;\n",
       "    }\n",
       "\n",
       "    .dataframe thead th {\n",
       "        text-align: right;\n",
       "    }\n",
       "</style>\n",
       "<table border=\"1\" class=\"dataframe\">\n",
       "  <thead>\n",
       "    <tr style=\"text-align: right;\">\n",
       "      <th></th>\n",
       "      <th>age</th>\n",
       "      <th>gender</th>\n",
       "      <th>occupation_administrator</th>\n",
       "      <th>occupation_artist</th>\n",
       "      <th>occupation_doctor</th>\n",
       "      <th>occupation_educator</th>\n",
       "      <th>occupation_engineer</th>\n",
       "      <th>occupation_entertainment</th>\n",
       "      <th>occupation_executive</th>\n",
       "      <th>occupation_healthcare</th>\n",
       "      <th>...</th>\n",
       "      <th>occupation_salesman</th>\n",
       "      <th>occupation_scientist</th>\n",
       "      <th>occupation_student</th>\n",
       "      <th>occupation_technician</th>\n",
       "      <th>occupation_writer</th>\n",
       "      <th>age_group_Under 18</th>\n",
       "      <th>age_group_18-24</th>\n",
       "      <th>age_group_25-34</th>\n",
       "      <th>age_group_35-49</th>\n",
       "      <th>age_group_Above 49</th>\n",
       "    </tr>\n",
       "    <tr>\n",
       "      <th>user_id</th>\n",
       "      <th></th>\n",
       "      <th></th>\n",
       "      <th></th>\n",
       "      <th></th>\n",
       "      <th></th>\n",
       "      <th></th>\n",
       "      <th></th>\n",
       "      <th></th>\n",
       "      <th></th>\n",
       "      <th></th>\n",
       "      <th></th>\n",
       "      <th></th>\n",
       "      <th></th>\n",
       "      <th></th>\n",
       "      <th></th>\n",
       "      <th></th>\n",
       "      <th></th>\n",
       "      <th></th>\n",
       "      <th></th>\n",
       "      <th></th>\n",
       "      <th></th>\n",
       "    </tr>\n",
       "  </thead>\n",
       "  <tbody>\n",
       "    <tr>\n",
       "      <th>900</th>\n",
       "      <td>60</td>\n",
       "      <td>0</td>\n",
       "      <td>0</td>\n",
       "      <td>0</td>\n",
       "      <td>0</td>\n",
       "      <td>0</td>\n",
       "      <td>0</td>\n",
       "      <td>0</td>\n",
       "      <td>0</td>\n",
       "      <td>0</td>\n",
       "      <td>...</td>\n",
       "      <td>0</td>\n",
       "      <td>0</td>\n",
       "      <td>0</td>\n",
       "      <td>0</td>\n",
       "      <td>0</td>\n",
       "      <td>0</td>\n",
       "      <td>0</td>\n",
       "      <td>0</td>\n",
       "      <td>0</td>\n",
       "      <td>1</td>\n",
       "    </tr>\n",
       "  </tbody>\n",
       "</table>\n",
       "<p>1 rows × 28 columns</p>\n",
       "</div>"
      ],
      "text/plain": [
       "         age  gender  occupation_administrator  occupation_artist  \\\n",
       "user_id                                                             \n",
       "900       60       0                         0                  0   \n",
       "\n",
       "         occupation_doctor  occupation_educator  occupation_engineer  \\\n",
       "user_id                                                                \n",
       "900                      0                    0                    0   \n",
       "\n",
       "         occupation_entertainment  occupation_executive  \\\n",
       "user_id                                                   \n",
       "900                             0                     0   \n",
       "\n",
       "         occupation_healthcare  ...  occupation_salesman  \\\n",
       "user_id                         ...                        \n",
       "900                          0  ...                    0   \n",
       "\n",
       "         occupation_scientist  occupation_student  occupation_technician  \\\n",
       "user_id                                                                    \n",
       "900                         0                   0                      0   \n",
       "\n",
       "         occupation_writer  age_group_Under 18  age_group_18-24  \\\n",
       "user_id                                                           \n",
       "900                      0                   0                0   \n",
       "\n",
       "         age_group_25-34  age_group_35-49  age_group_Above 49  \n",
       "user_id                                                        \n",
       "900                    0                0                   1  \n",
       "\n",
       "[1 rows x 28 columns]"
      ]
     },
     "execution_count": 67,
     "metadata": {},
     "output_type": "execute_result"
    }
   ],
   "source": [
    "df_users.sample(1)"
   ]
  },
  {
   "cell_type": "code",
   "execution_count": 68,
   "id": "feb55a49-4483-4813-9cce-6b6e6ca6530c",
   "metadata": {},
   "outputs": [
    {
     "data": {
      "text/html": [
       "<div>\n",
       "<style scoped>\n",
       "    .dataframe tbody tr th:only-of-type {\n",
       "        vertical-align: middle;\n",
       "    }\n",
       "\n",
       "    .dataframe tbody tr th {\n",
       "        vertical-align: top;\n",
       "    }\n",
       "\n",
       "    .dataframe thead th {\n",
       "        text-align: right;\n",
       "    }\n",
       "</style>\n",
       "<table border=\"1\" class=\"dataframe\">\n",
       "  <thead>\n",
       "    <tr style=\"text-align: right;\">\n",
       "      <th></th>\n",
       "      <th>unknown</th>\n",
       "      <th>Action</th>\n",
       "      <th>Adventure</th>\n",
       "      <th>Animation</th>\n",
       "      <th>Children</th>\n",
       "      <th>Comedy</th>\n",
       "      <th>Crime</th>\n",
       "      <th>Documentary</th>\n",
       "      <th>Drama</th>\n",
       "      <th>Fantasy</th>\n",
       "      <th>Film-Noir</th>\n",
       "      <th>Horror</th>\n",
       "      <th>Musical</th>\n",
       "      <th>Mystery</th>\n",
       "      <th>Romance</th>\n",
       "      <th>Sci-Fi</th>\n",
       "      <th>Thriller</th>\n",
       "      <th>War</th>\n",
       "      <th>Western</th>\n",
       "    </tr>\n",
       "    <tr>\n",
       "      <th>movie_id</th>\n",
       "      <th></th>\n",
       "      <th></th>\n",
       "      <th></th>\n",
       "      <th></th>\n",
       "      <th></th>\n",
       "      <th></th>\n",
       "      <th></th>\n",
       "      <th></th>\n",
       "      <th></th>\n",
       "      <th></th>\n",
       "      <th></th>\n",
       "      <th></th>\n",
       "      <th></th>\n",
       "      <th></th>\n",
       "      <th></th>\n",
       "      <th></th>\n",
       "      <th></th>\n",
       "      <th></th>\n",
       "      <th></th>\n",
       "    </tr>\n",
       "  </thead>\n",
       "  <tbody>\n",
       "    <tr>\n",
       "      <th>1</th>\n",
       "      <td>0</td>\n",
       "      <td>0</td>\n",
       "      <td>0</td>\n",
       "      <td>1</td>\n",
       "      <td>1</td>\n",
       "      <td>1</td>\n",
       "      <td>0</td>\n",
       "      <td>0</td>\n",
       "      <td>0</td>\n",
       "      <td>0</td>\n",
       "      <td>0</td>\n",
       "      <td>0</td>\n",
       "      <td>0</td>\n",
       "      <td>0</td>\n",
       "      <td>0</td>\n",
       "      <td>0</td>\n",
       "      <td>0</td>\n",
       "      <td>0</td>\n",
       "      <td>0</td>\n",
       "    </tr>\n",
       "  </tbody>\n",
       "</table>\n",
       "</div>"
      ],
      "text/plain": [
       "          unknown  Action  Adventure  Animation  Children  Comedy  Crime  \\\n",
       "movie_id                                                                   \n",
       "1               0       0          0          1         1       1      0   \n",
       "\n",
       "          Documentary  Drama  Fantasy  Film-Noir  Horror  Musical  Mystery  \\\n",
       "movie_id                                                                     \n",
       "1                   0      0        0          0       0        0        0   \n",
       "\n",
       "          Romance  Sci-Fi  Thriller  War  Western  \n",
       "movie_id                                           \n",
       "1               0       0         0    0        0  "
      ]
     },
     "execution_count": 68,
     "metadata": {},
     "output_type": "execute_result"
    }
   ],
   "source": [
    "df_movies.head(1)"
   ]
  },
  {
   "cell_type": "code",
   "execution_count": 71,
   "id": "34619c6b-676b-4e50-baf7-e7b9d1023b35",
   "metadata": {},
   "outputs": [],
   "source": [
    "df_ratings.to_csv(\"./../data/interim/ratings_cleaned.csv\")"
   ]
  },
  {
   "cell_type": "code",
   "execution_count": 72,
   "id": "94caefb6-9520-47c2-b467-3c5a47de7d61",
   "metadata": {},
   "outputs": [],
   "source": [
    "df_users.to_csv(\"./../data/interim/users_cleaned.csv\")\n",
    "df_movies.to_csv(\"./../data/interim/movies_cleaned.csv\")"
   ]
  }
 ],
 "metadata": {
  "kernelspec": {
   "display_name": "Python 3 (ipykernel)",
   "language": "python",
   "name": "python3"
  },
  "language_info": {
   "codemirror_mode": {
    "name": "ipython",
    "version": 3
   },
   "file_extension": ".py",
   "mimetype": "text/x-python",
   "name": "python",
   "nbconvert_exporter": "python",
   "pygments_lexer": "ipython3",
   "version": "3.11.2"
  }
 },
 "nbformat": 4,
 "nbformat_minor": 5
}
