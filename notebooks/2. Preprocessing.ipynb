{
 "cells": [
  {
   "cell_type": "markdown",
   "id": "a0b8dd25-2ebd-4c25-8464-4fd2aff371e3",
   "metadata": {},
   "source": [
    "In this file, the following is done:\n",
    "1. We read files\n",
    "2. One hot encode what we can: genre, occupating, age and other staff\n",
    "3. Drop unimportant columns like zipcode, dates and other staff\n",
    "4. Create a tensors from dataframes in order to use them later like feature tensors"
   ]
  },
  {
   "cell_type": "code",
   "execution_count": 1,
   "id": "f189a793-4e7d-4390-b04d-2ddc81c7e92c",
   "metadata": {},
   "outputs": [],
   "source": [
    "import pandas as pd\n",
    "import matplotlib.pyplot as plt\n",
    "import seaborn as sns\n",
    "import numpy as np\n",
    "from tqdm import tqdm\n",
    "sns.set_theme()"
   ]
  },
  {
   "cell_type": "code",
   "execution_count": 8,
   "id": "e30a9c1d-9bf2-46d7-8bea-9c5330ca234e",
   "metadata": {},
   "outputs": [],
   "source": [
    "raw_movielens_folder = \"./../data/interim/ml-100k\" # even though folder if interim, this file is raw"
   ]
  },
  {
   "cell_type": "code",
   "execution_count": 9,
   "id": "96695db0-3fea-4ed7-b22c-b9303abc5354",
   "metadata": {},
   "outputs": [],
   "source": [
    "genres = [\"unknown\",\n",
    "\"Action\",\n",
    "\"Adventure\",\n",
    "\"Animation\",\n",
    "\"Children\",\n",
    "\"Comedy\",\n",
    "\"Crime\",\n",
    "\"Documentary\",\n",
    "\"Drama\",\n",
    "\"Fantasy\",\n",
    "\"Film-Noir\",\n",
    "\"Horror\",\n",
    "\"Musical\",\n",
    "\"Mystery\",\n",
    "\"Romance\",\n",
    "\"Sci-Fi\",\n",
    "\"Thriller\",\n",
    "\"War\",\n",
    "\"Western\"\n",
    "]"
   ]
  },
  {
   "cell_type": "code",
   "execution_count": 65,
   "id": "ffe8d696-332c-48a2-b85d-7ea5adf59a8c",
   "metadata": {},
   "outputs": [],
   "source": [
    "df_ratings = pd.read_csv(raw_movielens_folder+\"/u.data\", sep = \"\\t\", header=None, names=['user_id', 'movie_id', 'rating', 'timestamp'])\n",
    "df_users = pd.read_csv(raw_movielens_folder+\"/u.user\", sep='|', header=None, names=['user_id', 'age', 'gender', 'occupation', 'zipcode'], index_col=0)\n",
    "\n",
    "# in interim this file has replaces || by |\n",
    "df_movies = pd.read_csv(raw_movielens_folder+\"/u.item\", sep='|', header=None, names = [\"movie_id\", \"name\", \"video_date\", \"link\"] + genres, encoding='latin-1', index_col=0)\n",
    "df_movies.drop([\"link\"], axis=1, inplace=True) # useless"
   ]
  },
  {
   "cell_type": "code",
   "execution_count": 67,
   "id": "854381c6-6754-4406-9215-b6337ddfcb52",
   "metadata": {},
   "outputs": [],
   "source": [
    "# drop titles, they are useless. also, i am not going to use release date\n",
    "df_movies.drop([\"name\"], inplace=True, axis=1)\n",
    "df_ratings.drop([\"timestamp\"], axis=1, inplace=True) # timestamp is useless\n",
    "df_movies.drop([\"video_date\"], axis=1, inplace=True) # useless\n",
    "df_users.drop([\"zipcode\"], inplace=True, axis=1) # useless"
   ]
  },
  {
   "cell_type": "code",
   "execution_count": 68,
   "id": "6d3ace39-7d49-45e0-9222-53bb29378767",
   "metadata": {},
   "outputs": [],
   "source": [
    "df_users = pd.get_dummies(df_users, columns=['gender'], dtype=\"int\") # one hot encoding the gender\n",
    "df_users.drop([\"gender_M\"], inplace=True, axis=1)\n",
    "df_users.rename({\"gender_F\" : \"gender\"}, axis=1, inplace=True)\n",
    "\n",
    "# so we have gender with either 1 on 0"
   ]
  },
  {
   "cell_type": "code",
   "execution_count": 69,
   "id": "a268cce1-5f41-4e93-a504-ccad98148d6d",
   "metadata": {},
   "outputs": [],
   "source": [
    "df_users = pd.get_dummies(df_users, columns=['occupation'], dtype=\"int\") # one hot encoding the occupation"
   ]
  },
  {
   "cell_type": "code",
   "execution_count": 70,
   "id": "951e7bfa-c9e2-4dbf-a4db-65ef1b538110",
   "metadata": {},
   "outputs": [],
   "source": [
    "# Encoding the age into cathegories\n",
    "\n",
    "bins = [0, 17, 24, 34, 49, float('inf')]\n",
    "\n",
    "# Define the labels\n",
    "labels = ['Under 18', '18-24', '25-34', '35-49', 'Above 49']\n",
    "\n",
    "# Create the new column\n",
    "df_users['age_group'] = pd.cut(df_users['age'], bins=bins, labels=labels, include_lowest=True)"
   ]
  },
  {
   "cell_type": "code",
   "execution_count": 71,
   "id": "89214312-568e-40e4-b620-43550c4bb6b5",
   "metadata": {},
   "outputs": [],
   "source": [
    "df_users = pd.get_dummies(df_users, columns=['age_group'], dtype=\"int\")"
   ]
  },
  {
   "cell_type": "code",
   "execution_count": 72,
   "id": "eb9540fa-0d87-4f4e-9c08-6b71fdffc6ba",
   "metadata": {},
   "outputs": [],
   "source": [
    "last_1_columns = df_movies.columns[-1:]\n",
    "\n",
    "# Cast the last 5 columns to int\n",
    "df_movies[last_1_columns] = df_movies[last_1_columns].astype(int)"
   ]
  },
  {
   "cell_type": "code",
   "execution_count": 73,
   "id": "fb3b0f4d-bd04-462a-9065-8c32f63cde1e",
   "metadata": {},
   "outputs": [
    {
     "data": {
      "text/html": [
       "<div>\n",
       "<style scoped>\n",
       "    .dataframe tbody tr th:only-of-type {\n",
       "        vertical-align: middle;\n",
       "    }\n",
       "\n",
       "    .dataframe tbody tr th {\n",
       "        vertical-align: top;\n",
       "    }\n",
       "\n",
       "    .dataframe thead th {\n",
       "        text-align: right;\n",
       "    }\n",
       "</style>\n",
       "<table border=\"1\" class=\"dataframe\">\n",
       "  <thead>\n",
       "    <tr style=\"text-align: right;\">\n",
       "      <th></th>\n",
       "      <th>user_id</th>\n",
       "      <th>movie_id</th>\n",
       "      <th>rating</th>\n",
       "    </tr>\n",
       "  </thead>\n",
       "  <tbody>\n",
       "    <tr>\n",
       "      <th>0</th>\n",
       "      <td>196</td>\n",
       "      <td>242</td>\n",
       "      <td>3</td>\n",
       "    </tr>\n",
       "  </tbody>\n",
       "</table>\n",
       "</div>"
      ],
      "text/plain": [
       "   user_id  movie_id  rating\n",
       "0      196       242       3"
      ]
     },
     "execution_count": 73,
     "metadata": {},
     "output_type": "execute_result"
    }
   ],
   "source": [
    "df_ratings.head(1)"
   ]
  },
  {
   "cell_type": "code",
   "execution_count": 74,
   "id": "a874cf2b-8bd9-4e20-a01f-7bb6c7e2f23c",
   "metadata": {},
   "outputs": [
    {
     "data": {
      "text/html": [
       "<div>\n",
       "<style scoped>\n",
       "    .dataframe tbody tr th:only-of-type {\n",
       "        vertical-align: middle;\n",
       "    }\n",
       "\n",
       "    .dataframe tbody tr th {\n",
       "        vertical-align: top;\n",
       "    }\n",
       "\n",
       "    .dataframe thead th {\n",
       "        text-align: right;\n",
       "    }\n",
       "</style>\n",
       "<table border=\"1\" class=\"dataframe\">\n",
       "  <thead>\n",
       "    <tr style=\"text-align: right;\">\n",
       "      <th></th>\n",
       "      <th>age</th>\n",
       "      <th>gender</th>\n",
       "      <th>occupation_administrator</th>\n",
       "      <th>occupation_artist</th>\n",
       "      <th>occupation_doctor</th>\n",
       "      <th>occupation_educator</th>\n",
       "      <th>occupation_engineer</th>\n",
       "      <th>occupation_entertainment</th>\n",
       "      <th>occupation_executive</th>\n",
       "      <th>occupation_healthcare</th>\n",
       "      <th>...</th>\n",
       "      <th>occupation_salesman</th>\n",
       "      <th>occupation_scientist</th>\n",
       "      <th>occupation_student</th>\n",
       "      <th>occupation_technician</th>\n",
       "      <th>occupation_writer</th>\n",
       "      <th>age_group_Under 18</th>\n",
       "      <th>age_group_18-24</th>\n",
       "      <th>age_group_25-34</th>\n",
       "      <th>age_group_35-49</th>\n",
       "      <th>age_group_Above 49</th>\n",
       "    </tr>\n",
       "    <tr>\n",
       "      <th>user_id</th>\n",
       "      <th></th>\n",
       "      <th></th>\n",
       "      <th></th>\n",
       "      <th></th>\n",
       "      <th></th>\n",
       "      <th></th>\n",
       "      <th></th>\n",
       "      <th></th>\n",
       "      <th></th>\n",
       "      <th></th>\n",
       "      <th></th>\n",
       "      <th></th>\n",
       "      <th></th>\n",
       "      <th></th>\n",
       "      <th></th>\n",
       "      <th></th>\n",
       "      <th></th>\n",
       "      <th></th>\n",
       "      <th></th>\n",
       "      <th></th>\n",
       "      <th></th>\n",
       "    </tr>\n",
       "  </thead>\n",
       "  <tbody>\n",
       "    <tr>\n",
       "      <th>588</th>\n",
       "      <td>18</td>\n",
       "      <td>1</td>\n",
       "      <td>0</td>\n",
       "      <td>0</td>\n",
       "      <td>0</td>\n",
       "      <td>0</td>\n",
       "      <td>0</td>\n",
       "      <td>0</td>\n",
       "      <td>0</td>\n",
       "      <td>0</td>\n",
       "      <td>...</td>\n",
       "      <td>0</td>\n",
       "      <td>0</td>\n",
       "      <td>1</td>\n",
       "      <td>0</td>\n",
       "      <td>0</td>\n",
       "      <td>0</td>\n",
       "      <td>1</td>\n",
       "      <td>0</td>\n",
       "      <td>0</td>\n",
       "      <td>0</td>\n",
       "    </tr>\n",
       "  </tbody>\n",
       "</table>\n",
       "<p>1 rows × 28 columns</p>\n",
       "</div>"
      ],
      "text/plain": [
       "         age  gender  occupation_administrator  occupation_artist  \\\n",
       "user_id                                                             \n",
       "588       18       1                         0                  0   \n",
       "\n",
       "         occupation_doctor  occupation_educator  occupation_engineer  \\\n",
       "user_id                                                                \n",
       "588                      0                    0                    0   \n",
       "\n",
       "         occupation_entertainment  occupation_executive  \\\n",
       "user_id                                                   \n",
       "588                             0                     0   \n",
       "\n",
       "         occupation_healthcare  ...  occupation_salesman  \\\n",
       "user_id                         ...                        \n",
       "588                          0  ...                    0   \n",
       "\n",
       "         occupation_scientist  occupation_student  occupation_technician  \\\n",
       "user_id                                                                    \n",
       "588                         0                   1                      0   \n",
       "\n",
       "         occupation_writer  age_group_Under 18  age_group_18-24  \\\n",
       "user_id                                                           \n",
       "588                      0                   0                1   \n",
       "\n",
       "         age_group_25-34  age_group_35-49  age_group_Above 49  \n",
       "user_id                                                        \n",
       "588                    0                0                   0  \n",
       "\n",
       "[1 rows x 28 columns]"
      ]
     },
     "execution_count": 74,
     "metadata": {},
     "output_type": "execute_result"
    }
   ],
   "source": [
    "df_users.sample(1)"
   ]
  },
  {
   "cell_type": "code",
   "execution_count": 75,
   "id": "feb55a49-4483-4813-9cce-6b6e6ca6530c",
   "metadata": {},
   "outputs": [
    {
     "data": {
      "text/html": [
       "<div>\n",
       "<style scoped>\n",
       "    .dataframe tbody tr th:only-of-type {\n",
       "        vertical-align: middle;\n",
       "    }\n",
       "\n",
       "    .dataframe tbody tr th {\n",
       "        vertical-align: top;\n",
       "    }\n",
       "\n",
       "    .dataframe thead th {\n",
       "        text-align: right;\n",
       "    }\n",
       "</style>\n",
       "<table border=\"1\" class=\"dataframe\">\n",
       "  <thead>\n",
       "    <tr style=\"text-align: right;\">\n",
       "      <th></th>\n",
       "      <th>unknown</th>\n",
       "      <th>Action</th>\n",
       "      <th>Adventure</th>\n",
       "      <th>Animation</th>\n",
       "      <th>Children</th>\n",
       "      <th>Comedy</th>\n",
       "      <th>Crime</th>\n",
       "      <th>Documentary</th>\n",
       "      <th>Drama</th>\n",
       "      <th>Fantasy</th>\n",
       "      <th>Film-Noir</th>\n",
       "      <th>Horror</th>\n",
       "      <th>Musical</th>\n",
       "      <th>Mystery</th>\n",
       "      <th>Romance</th>\n",
       "      <th>Sci-Fi</th>\n",
       "      <th>Thriller</th>\n",
       "      <th>War</th>\n",
       "      <th>Western</th>\n",
       "    </tr>\n",
       "    <tr>\n",
       "      <th>movie_id</th>\n",
       "      <th></th>\n",
       "      <th></th>\n",
       "      <th></th>\n",
       "      <th></th>\n",
       "      <th></th>\n",
       "      <th></th>\n",
       "      <th></th>\n",
       "      <th></th>\n",
       "      <th></th>\n",
       "      <th></th>\n",
       "      <th></th>\n",
       "      <th></th>\n",
       "      <th></th>\n",
       "      <th></th>\n",
       "      <th></th>\n",
       "      <th></th>\n",
       "      <th></th>\n",
       "      <th></th>\n",
       "      <th></th>\n",
       "    </tr>\n",
       "  </thead>\n",
       "  <tbody>\n",
       "    <tr>\n",
       "      <th>1</th>\n",
       "      <td>0</td>\n",
       "      <td>0</td>\n",
       "      <td>0</td>\n",
       "      <td>1</td>\n",
       "      <td>1</td>\n",
       "      <td>1</td>\n",
       "      <td>0</td>\n",
       "      <td>0</td>\n",
       "      <td>0</td>\n",
       "      <td>0</td>\n",
       "      <td>0</td>\n",
       "      <td>0</td>\n",
       "      <td>0</td>\n",
       "      <td>0</td>\n",
       "      <td>0</td>\n",
       "      <td>0</td>\n",
       "      <td>0</td>\n",
       "      <td>0</td>\n",
       "      <td>0</td>\n",
       "    </tr>\n",
       "  </tbody>\n",
       "</table>\n",
       "</div>"
      ],
      "text/plain": [
       "          unknown  Action  Adventure  Animation  Children  Comedy  Crime  \\\n",
       "movie_id                                                                   \n",
       "1               0       0          0          1         1       1      0   \n",
       "\n",
       "          Documentary  Drama  Fantasy  Film-Noir  Horror  Musical  Mystery  \\\n",
       "movie_id                                                                     \n",
       "1                   0      0        0          0       0        0        0   \n",
       "\n",
       "          Romance  Sci-Fi  Thriller  War  Western  \n",
       "movie_id                                           \n",
       "1               0       0         0    0        0  "
      ]
     },
     "execution_count": 75,
     "metadata": {},
     "output_type": "execute_result"
    }
   ],
   "source": [
    "df_movies.head(1)"
   ]
  },
  {
   "cell_type": "code",
   "execution_count": 76,
   "id": "5a09d87f-0a8b-4cc8-a1ff-920bb22e5450",
   "metadata": {},
   "outputs": [],
   "source": [
    "df_users.drop(\"age\", axis=1, inplace=True) # We created an onehot for this"
   ]
  },
  {
   "cell_type": "code",
   "execution_count": 77,
   "id": "34619c6b-676b-4e50-baf7-e7b9d1023b35",
   "metadata": {},
   "outputs": [],
   "source": [
    "df_ratings.to_csv(\"./../data/interim/ratings_cleaned.csv\")"
   ]
  },
  {
   "cell_type": "code",
   "execution_count": 78,
   "id": "94caefb6-9520-47c2-b467-3c5a47de7d61",
   "metadata": {},
   "outputs": [],
   "source": [
    "df_users.to_csv(\"./../data/interim/users_cleaned.csv\")\n",
    "df_movies.to_csv(\"./../data/interim/movies_cleaned.csv\")"
   ]
  },
  {
   "cell_type": "markdown",
   "id": "23998bd2-3af2-4592-bf90-444df4497e87",
   "metadata": {},
   "source": [
    "Here we create a tensor of those 3 matrices"
   ]
  },
  {
   "cell_type": "code",
   "execution_count": 79,
   "id": "100c0252-2f71-40b5-932c-59973f26ef99",
   "metadata": {},
   "outputs": [],
   "source": [
    "import torch"
   ]
  },
  {
   "cell_type": "code",
   "execution_count": 80,
   "id": "642618e8-71d9-49fa-97ab-65f6db5592e7",
   "metadata": {},
   "outputs": [],
   "source": [
    "users_tensor = torch.tensor(df_users.values)\n",
    "torch.save(users_tensor, \"./../data/interim/users.pt\")"
   ]
  },
  {
   "cell_type": "code",
   "execution_count": 81,
   "id": "fbee7df8-6db7-4e33-9afd-6bd8a92f3200",
   "metadata": {},
   "outputs": [],
   "source": [
    "movies_tensor = torch.tensor(df_movies.values)\n",
    "torch.save(movies_tensor, \"./../data/interim/movies.pt\")"
   ]
  },
  {
   "cell_type": "code",
   "execution_count": 56,
   "id": "b94547a0-5ccb-40f9-8d34-0311c9dd400f",
   "metadata": {},
   "outputs": [
    {
     "data": {
      "text/html": [
       "<div>\n",
       "<style scoped>\n",
       "    .dataframe tbody tr th:only-of-type {\n",
       "        vertical-align: middle;\n",
       "    }\n",
       "\n",
       "    .dataframe tbody tr th {\n",
       "        vertical-align: top;\n",
       "    }\n",
       "\n",
       "    .dataframe thead th {\n",
       "        text-align: right;\n",
       "    }\n",
       "</style>\n",
       "<table border=\"1\" class=\"dataframe\">\n",
       "  <thead>\n",
       "    <tr style=\"text-align: right;\">\n",
       "      <th></th>\n",
       "      <th>movie_id</th>\n",
       "      <th>rating</th>\n",
       "    </tr>\n",
       "    <tr>\n",
       "      <th>user_id</th>\n",
       "      <th></th>\n",
       "      <th></th>\n",
       "    </tr>\n",
       "  </thead>\n",
       "  <tbody>\n",
       "    <tr>\n",
       "      <th>196</th>\n",
       "      <td>242</td>\n",
       "      <td>3</td>\n",
       "    </tr>\n",
       "    <tr>\n",
       "      <th>186</th>\n",
       "      <td>302</td>\n",
       "      <td>3</td>\n",
       "    </tr>\n",
       "    <tr>\n",
       "      <th>22</th>\n",
       "      <td>377</td>\n",
       "      <td>1</td>\n",
       "    </tr>\n",
       "    <tr>\n",
       "      <th>244</th>\n",
       "      <td>51</td>\n",
       "      <td>2</td>\n",
       "    </tr>\n",
       "    <tr>\n",
       "      <th>166</th>\n",
       "      <td>346</td>\n",
       "      <td>1</td>\n",
       "    </tr>\n",
       "  </tbody>\n",
       "</table>\n",
       "</div>"
      ],
      "text/plain": [
       "         movie_id  rating\n",
       "user_id                  \n",
       "196           242       3\n",
       "186           302       3\n",
       "22            377       1\n",
       "244            51       2\n",
       "166           346       1"
      ]
     },
     "execution_count": 56,
     "metadata": {},
     "output_type": "execute_result"
    }
   ],
   "source": [
    "df_ratings.head()"
   ]
  },
  {
   "cell_type": "code",
   "execution_count": 82,
   "id": "61b1cf4a-7e6d-47b5-937b-c4bf4fe3725e",
   "metadata": {},
   "outputs": [],
   "source": [
    "ratings_tensor = torch.zeros(len(set(df_ratings[\"user_id\"])),len(set(df_ratings[\"movie_id\"]))) # matrix with ratings. \n",
    "\n",
    "for i, s in df_ratings.iterrows():\n",
    "    ratings_tensor[s[\"user_id\"]-1][s[\"movie_id\"]-1] = s[\"rating\"]"
   ]
  },
  {
   "cell_type": "code",
   "execution_count": 83,
   "id": "98c20ea1-9302-433f-b2c7-93589e9c6f7a",
   "metadata": {},
   "outputs": [],
   "source": [
    "torch.save(ratings_tensor, \"./../data/interim/ratings.pt\")"
   ]
  }
 ],
 "metadata": {
  "kernelspec": {
   "display_name": "Python 3 (ipykernel)",
   "language": "python",
   "name": "python3"
  },
  "language_info": {
   "codemirror_mode": {
    "name": "ipython",
    "version": 3
   },
   "file_extension": ".py",
   "mimetype": "text/x-python",
   "name": "python",
   "nbconvert_exporter": "python",
   "pygments_lexer": "ipython3",
   "version": "3.11.2"
  }
 },
 "nbformat": 4,
 "nbformat_minor": 5
}
